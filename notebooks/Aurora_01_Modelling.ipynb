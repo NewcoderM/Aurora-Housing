{
 "cells": [
  {
   "cell_type": "markdown",
   "id": "9cd972a6-b47a-498d-912a-6cd976ddb9d9",
   "metadata": {},
   "source": [
    "# Aurora – Modelling Notebook\n",
    "\n",
    "## Objectives\n",
    "- Build and evaluate a machine learning pipeline for Ames Housing Price Prediction.\n",
    "\n",
    "## Inputs\n",
    "- Dataset: data/ames.csv\n",
    "\n",
    "## Outputs\n",
    "- Trained pipeline (models/)\n",
    "- Metrics & plots (assets/)\n"
   ]
  }
 ],
 "metadata": {
  "kernelspec": {
   "display_name": "Python (aurora)",
   "language": "python",
   "name": "aurora"
  },
  "language_info": {
   "codemirror_mode": {
    "name": "ipython",
    "version": 3
   },
   "file_extension": ".py",
   "mimetype": "text/x-python",
   "name": "python",
   "nbconvert_exporter": "python",
   "pygments_lexer": "ipython3",
   "version": "3.12.1"
  }
 },
 "nbformat": 4,
 "nbformat_minor": 5
}
